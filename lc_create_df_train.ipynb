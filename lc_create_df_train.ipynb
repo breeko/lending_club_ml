{
 "cells": [
  {
   "cell_type": "code",
   "execution_count": 43,
   "metadata": {
    "collapsed": true
   },
   "outputs": [],
   "source": [
    "import numpy as np\n",
    "import pandas as pd\n",
    "\n",
    "from __future__ import division"
   ]
  },
  {
   "cell_type": "code",
   "execution_count": 2,
   "metadata": {
    "collapsed": false
   },
   "outputs": [
    {
     "name": "stderr",
     "output_type": "stream",
     "text": [
      "/Users/branko/Library/Python/2.7/lib/python/site-packages/IPython/core/interactiveshell.py:2825: DtypeWarning: Columns (48) have mixed types. Specify dtype option on import or set low_memory=False.\n",
      "  if self.run_code(code, result):\n"
     ]
    }
   ],
   "source": [
    "df = pd.DataFrame.from_csv(\"df_cleaned_up.csv\")"
   ]
  },
  {
   "cell_type": "code",
   "execution_count": 30,
   "metadata": {
    "collapsed": true
   },
   "outputs": [],
   "source": [
    "# The fields used for analysis should be limited to those that are available at time of origination\n",
    "fields = ['grade','sub_grade', 'funded_amnt', 'int_rate', 'term', 'home_ownership', 'emp_length', 'dti', 'purpose',\n",
    " 'credit_history','open_acc','total_acc','revol_bal','revol_util']\n",
    "\n",
    "numeric_fields = [field for field in fields if df[field].dtype in [np.float, np.int] and field not in ['term']]\n",
    "categorical_fields = [field for field in fields if field not in numeric_fields]"
   ]
  },
  {
   "cell_type": "code",
   "execution_count": 38,
   "metadata": {
    "collapsed": true
   },
   "outputs": [],
   "source": [
    "# Create dummy field for categorical data\n",
    "\n",
    "df_train = df[numeric_fields].copy(deep=True)\n",
    "\n",
    "for field in categorical_fields:\n",
    "    dummy = pd.get_dummies(df[field], prefix=field).iloc[:, :]\n",
    "    df_train = pd.concat([df_train, dummy], axis=1)\n"
   ]
  },
  {
   "cell_type": "code",
   "execution_count": 39,
   "metadata": {
    "collapsed": false
   },
   "outputs": [],
   "source": [
    "df_train = pd.concat([df.id, df_train], axis=1)"
   ]
  },
  {
   "cell_type": "code",
   "execution_count": 40,
   "metadata": {
    "collapsed": true
   },
   "outputs": [],
   "source": [
    "X = df_train\n",
    "X = X.fillna(X.mean())\n",
    "y = pd.DataFrame(df.bad_loan == True, columns=['bad_loan'])"
   ]
  },
  {
   "cell_type": "code",
   "execution_count": 41,
   "metadata": {
    "collapsed": true
   },
   "outputs": [],
   "source": [
    "from sklearn import preprocessing\n",
    "\n",
    "# standardize numerical fields\n",
    "scaler = preprocessing.StandardScaler()\n",
    "X[numeric_fields] = scaler.fit_transform(X[numeric_fields])"
   ]
  },
  {
   "cell_type": "code",
   "execution_count": 42,
   "metadata": {
    "collapsed": true
   },
   "outputs": [],
   "source": [
    "X.to_csv(\"X_data.csv\")\n",
    "y.to_csv('y_data.csv')"
   ]
  }
 ],
 "metadata": {
  "kernelspec": {
   "display_name": "Python 2",
   "language": "python",
   "name": "python2"
  },
  "language_info": {
   "codemirror_mode": {
    "name": "ipython",
    "version": 2
   },
   "file_extension": ".py",
   "mimetype": "text/x-python",
   "name": "python",
   "nbconvert_exporter": "python",
   "pygments_lexer": "ipython2",
   "version": "2.7.12"
  }
 },
 "nbformat": 4,
 "nbformat_minor": 1
}
