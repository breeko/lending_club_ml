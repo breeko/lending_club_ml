{
 "cells": [
  {
   "cell_type": "code",
   "execution_count": 9,
   "metadata": {
    "collapsed": false
   },
   "outputs": [],
   "source": [
    "%matplotlib inline\n",
    "import urllib\n",
    "import os\n",
    "import openpyxl as px\n",
    "import zipfile\n",
    "import csv\n",
    "import pandas as pd\n",
    "import numpy as np\n",
    "\n",
    "from __future__ import division"
   ]
  },
  {
   "cell_type": "code",
   "execution_count": 10,
   "metadata": {
    "collapsed": false
   },
   "outputs": [
    {
     "name": "stdout",
     "output_type": "stream",
     "text": [
      "LCDataDictionary.xlsx already downloaded\n",
      "Downloading LoanStats3a.csv.zip...\n",
      "LoanStats3a.csv.zip downloaded\n",
      "Unzipped LoanStats3a.csv\n",
      "Downloading LoanStats3b.csv.zip...\n",
      "LoanStats3b.csv.zip downloaded\n",
      "Unzipped LoanStats3b.csv\n",
      "Downloading LoanStats3c.csv.zip...\n",
      "LoanStats3c.csv.zip downloaded\n",
      "Unzipped LoanStats3c.csv\n",
      "Downloading LoanStats3d.csv.zip...\n",
      "LoanStats3d.csv.zip downloaded\n",
      "Unzipped LoanStats3d.csv\n"
     ]
    }
   ],
   "source": [
    "urls = [\"https://resources.lendingclub.com/LoanStats3a.csv.zip\",\n",
    "       \"https://resources.lendingclub.com/LoanStats3b.csv.zip\",\n",
    "        \"https://resources.lendingclub.com/LoanStats3c.csv.zip\",\n",
    "        \"https://resources.lendingclub.com/LoanStats3d.csv.zip\"]\n",
    "\n",
    "data_dict_url = \"https://resources.lendingclub.com/LCDataDictionary.xlsx\"\n",
    "\n",
    "def download(url, unzip=False):\n",
    "    file_name = url.split(\"/\")[-1]\n",
    "    if os.path.isfile(file_name):\n",
    "        print \"%s already downloaded\" % file_name\n",
    "    else:    \n",
    "        print \"Downloading %s...\" % file_name\n",
    "        urllib.urlretrieve(url, file_name)\n",
    "        print \"%s downloaded\" % file_name\n",
    "\n",
    "    if unzip:\n",
    "        file_type = file_name.split(\".\")[-1]\n",
    "        if file_type.lower() == \"zip\":\n",
    "            z = zipfile.ZipFile(file_name)\n",
    "            extracted = []\n",
    "            for f in z.namelist():\n",
    "                extracted.append(f)\n",
    "                if os.path.isfile(f):\n",
    "                    print \"%s already unzipped\" % f\n",
    "                else:\n",
    "                    z.extract(f)\n",
    "                    print \"Unzipped %s\" % f\n",
    "            return extracted\n",
    "    return file_name\n",
    "\n",
    "headers_file = download(data_dict_url)\n",
    "headers_ws = px.load_workbook(headers_file, read_only=True).get_active_sheet()\n",
    "\n",
    "data_files = []\n",
    "\n",
    "for url in urls:\n",
    "    data_file = download(url, unzip=True)\n",
    "    data_files.extend(data_file)"
   ]
  },
  {
   "cell_type": "code",
   "execution_count": 3,
   "metadata": {
    "collapsed": false
   },
   "outputs": [],
   "source": [
    "# Deal with the headers\n",
    "\n",
    "# Dispense of header of headers\n",
    "headers_ws.rows.next()\n",
    "\n",
    "headers = []\n",
    "headers_desc = {}\n",
    "for row in headers_ws.rows:\n",
    "    header, desc = map(lambda x: x.value, row[:2])\n",
    "    if header is not None:\n",
    "        headers.append(header)\n",
    "        headers_desc[header] = desc"
   ]
  },
  {
   "cell_type": "code",
   "execution_count": 4,
   "metadata": {
    "collapsed": false
   },
   "outputs": [
    {
     "name": "stdout",
     "output_type": "stream",
     "text": [
      "Loading LoanStats3a.csv\n",
      "Finished loading LoanStats3a.csv\n",
      "Finished loading data.\n"
     ]
    },
    {
     "name": "stderr",
     "output_type": "stream",
     "text": [
      "/Users/Branko/miniconda2/lib/python2.7/site-packages/IPython/core/interactiveshell.py:2705: DtypeWarning: Columns (0,47) have mixed types. Specify dtype option on import or set low_memory=False.\n",
      "  interactivity=interactivity, compiler=compiler, result=result)\n"
     ]
    }
   ],
   "source": [
    "# Load the data\n",
    "df = pd.DataFrame()\n",
    "for data_file in data_files:\n",
    "    with open(data_file,'rb') as f:\n",
    "        reader = csv.reader(f)\n",
    "        # remove disclaimer\n",
    "        reader.next()\n",
    "        \n",
    "        header_row = 1\n",
    "        end_row = 1\n",
    "        while len(reader.next()) > 1:\n",
    "            end_row += 1\n",
    "        print \"Loading %s\" % data_file\n",
    "        df = df.append(pd.read_csv(data_file, header=header_row, nrows=end_row))\n",
    "        print \"Finished loading %s\" % data_file\n",
    "\n",
    "print \"Finished loading data.\""
   ]
  },
  {
   "cell_type": "code",
   "execution_count": 5,
   "metadata": {
    "collapsed": true
   },
   "outputs": [],
   "source": [
    "def mdiff(start, end):\n",
    "    \"\"\" Difference between two dates in months \"\"\"\n",
    "    return ((end.year - start.year) * 12) + (end.month - start.month) "
   ]
  },
  {
   "cell_type": "code",
   "execution_count": 6,
   "metadata": {
    "collapsed": false
   },
   "outputs": [
    {
     "name": "stderr",
     "output_type": "stream",
     "text": [
      "/Users/Branko/miniconda2/lib/python2.7/site-packages/pandas/core/ops.py:477: PerformanceWarning: Adding/subtracting array of DateOffsets to Series not vectorized\n",
      "  \"Series not vectorized\", PerformanceWarning)\n"
     ]
    }
   ],
   "source": [
    "# Filter out missing issue and payment dates\n",
    "df = df[df.issue_d.notnull() & df.last_pymnt_d.notnull() & df.term.notnull()]\n",
    "\n",
    "# Convert dates to datetime\n",
    "df.issue_d = pd.to_datetime(df.issue_d)\n",
    "df.last_pymnt_d = pd.to_datetime(df.last_pymnt_d)\n",
    "df.earliest_cr_line = pd.to_datetime(df.earliest_cr_line)\n",
    "\n",
    "# Add maturity\n",
    "df.term = df.term.str.replace(\" months\",\"\").astype(int)\n",
    "months = map(lambda x: pd.offsets.MonthBegin(x + 1,'M'), df.term)\n",
    "df.maturity =  pd.Series(df.issue_d + np.array(months))\n",
    "\n",
    "# Convert interest rates to float\n",
    "df.int_rate = pd.Series(df.int_rate).str.replace('%', '').astype(float)\n",
    "df.revol_util = pd.Series(df.revol_util).str.replace('%', '').astype(float)\n",
    "\n",
    "# Convert employment length to number\n",
    "df.emp_length.replace(to_replace='n/a', value=np.nan, inplace=True)\n",
    "df.emp_length.fillna(value=0, inplace=True)\n",
    "df.emp_length.replace(to_replace='[^0-9]+', value='', inplace=True, regex=True)\n",
    "df.emp_length = df.emp_length.astype(int)\n",
    "\n",
    "# Convert earliest credit line field to months\n",
    "df['credit_history'] = pd.Series(\n",
    "    [mdiff(start,end) for start, end in zip(df.earliest_cr_line, df.issue_d)], index=df.index)\n"
   ]
  },
  {
   "cell_type": "code",
   "execution_count": 7,
   "metadata": {
    "collapsed": false
   },
   "outputs": [],
   "source": [
    "# Since we'll be looking at predicting loan performance, we'll limit the data set to only matured loans\n",
    "as_of_date = max(df.last_pymnt_d)\n",
    "df = df[df.maturity <= as_of_date]\n",
    "\n",
    "# Add bad-loan to signify whether loan has taken charge-off\n",
    "df[\"bad_loan\"] = pd.Series(df.total_rec_prncp < df.funded_amnt)\n",
    "\n",
    "df_fully_paid = df[df.bad_loan == False]\n",
    "df_charged_off = df[df.bad_loan == True]"
   ]
  },
  {
   "cell_type": "code",
   "execution_count": 8,
   "metadata": {
    "collapsed": false
   },
   "outputs": [],
   "source": [
    "# Calculating Returns\n",
    "\n",
    "# Add total return\n",
    "df['total_return'] = pd.Series((df.total_rec_prncp + \n",
    "                                        df.total_rec_int + \n",
    "                                        df.total_rec_late_fee) / df.funded_amnt - 1, index=df.index)\n",
    "\n",
    "# Add number of payments made\n",
    "df['num_payments_made'] = pd.Series(\n",
    "    [max(1, mdiff(start,end)) for start, end in zip(df.issue_d, df.last_pymnt_d)], index=df.index)\n",
    "\n",
    "# Add average payment\n",
    "df['average_payment'] = pd.Series(\n",
    "        ((df.total_rec_prncp + \n",
    "          df.total_rec_int + \n",
    "          df.total_rec_late_fee) / df.num_payments_made ), \n",
    "    index=df.index\n",
    ")\n",
    "\n",
    "# Monthly returns -- assuming equal monthly payments from issue date to last payment date\n",
    "returns = np.array([np.rate(n, pmt, pv, 0) for n, pmt, pv in \n",
    "          zip(df.num_payments_made, df.average_payment, -df.funded_amnt)])\n",
    "\n",
    "# Annualize returns (simple return, not compounding)\n",
    "# Note that annualized returns don't really make sense with loans taking a loss\n",
    "# For instance, if the loan only returns 50% over 2 years, the total return would be -0.5 and the annualized\n",
    "returns = ( 1 + returns) ** 12 - 1\n",
    "df['annual_return'] = pd.Series(returns, index=df.index)"
   ]
  },
  {
   "cell_type": "code",
   "execution_count": 11,
   "metadata": {
    "collapsed": false
   },
   "outputs": [
    {
     "name": "stdout",
     "output_type": "stream",
     "text": [
      "Cleaned up csv has been saved to df_cleaned_up.csv\n"
     ]
    }
   ],
   "source": [
    "filename = \"df_cleaned_up.csv\"\n",
    "df.to_csv(filename)\n",
    "print \"Cleaned up csv has been saved to %s\" % filename"
   ]
  }
 ],
 "metadata": {
  "kernelspec": {
   "display_name": "Python 2",
   "language": "python",
   "name": "python2"
  },
  "language_info": {
   "codemirror_mode": {
    "name": "ipython",
    "version": 2
   },
   "file_extension": ".py",
   "mimetype": "text/x-python",
   "name": "python",
   "nbconvert_exporter": "python",
   "pygments_lexer": "ipython2",
   "version": "2.7.12"
  }
 },
 "nbformat": 4,
 "nbformat_minor": 0
}
