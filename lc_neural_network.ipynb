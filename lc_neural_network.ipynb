{
 "cells": [
  {
   "cell_type": "code",
   "execution_count": null,
   "metadata": {
    "collapsed": false
   },
   "outputs": [],
   "source": [
    "import pandas as pd\n",
    "import numpy as np\n",
    "import matplotlib.pyplot as plt\n",
    "\n",
    "from __future__ import division\n",
    "%matplotlib inline"
   ]
  },
  {
   "cell_type": "code",
   "execution_count": 79,
   "metadata": {
    "collapsed": false
   },
   "outputs": [],
   "source": [
    "X = pd.DataFrame.from_csv(\"X_data.csv\")\n",
    "y = pd.DataFrame.from_csv(\"y_data.csv\")\n",
    "y = np.ravel(y)"
   ]
  },
  {
   "cell_type": "code",
   "execution_count": 81,
   "metadata": {
    "collapsed": false
   },
   "outputs": [],
   "source": [
    "from sklearn.model_selection import train_test_split\n",
    "\n",
    "X_train, X_test, y_train, y_test = train_test_split(X, y, test_size=0.4, random_state=0)"
   ]
  },
  {
   "cell_type": "code",
   "execution_count": 5,
   "metadata": {
    "collapsed": false
   },
   "outputs": [
    {
     "data": {
      "text/plain": [
       "MLPClassifier(activation='relu', alpha=1e-05, batch_size='auto', beta_1=0.9,\n",
       "       beta_2=0.999, early_stopping=False, epsilon=1e-08,\n",
       "       hidden_layer_sizes=(5, 2), learning_rate='constant',\n",
       "       learning_rate_init=0.001, max_iter=200, momentum=0.9,\n",
       "       nesterovs_momentum=True, power_t=0.5, random_state=1, shuffle=True,\n",
       "       solver='lbfgs', tol=0.0001, validation_fraction=0.1, verbose=False,\n",
       "       warm_start=False)"
      ]
     },
     "execution_count": 5,
     "metadata": {},
     "output_type": "execute_result"
    }
   ],
   "source": [
    "# Train neural network\n",
    "from sklearn.neural_network import MLPClassifier\n",
    "\n",
    "clf = MLPClassifier(solver='lbfgs', alpha=1e-5, hidden_layer_sizes=(5, 2), random_state=1)\n",
    "clf.fit(X_train.iloc[:,1:], y_train)"
   ]
  },
  {
   "cell_type": "code",
   "execution_count": 6,
   "metadata": {
    "collapsed": false
   },
   "outputs": [],
   "source": [
    "y_test_predict = pd.DataFrame(clf.predict_proba(X_test), index= X_test.index)"
   ]
  },
  {
   "cell_type": "code",
   "execution_count": 8,
   "metadata": {
    "collapsed": false
   },
   "outputs": [
    {
     "name": "stdout",
     "output_type": "stream",
     "text": [
      "             A         B         C         D         E         F         G\n",
      "Bad   0.917442  0.841667  0.794434  0.738691  0.715175  0.656285  0.659189\n",
      "Good  0.935606  0.855116  0.808373  0.754008  0.723817  0.680087  0.641830\n"
     ]
    },
    {
     "name": "stderr",
     "output_type": "stream",
     "text": [
      "/usr/local/lib/python2.7/site-packages/ipykernel-4.2.2-py2.7.egg/ipykernel/__main__.py:6: UserWarning: Boolean Series key will be reindexed to match DataFrame index.\n",
      "/usr/local/lib/python2.7/site-packages/ipykernel-4.2.2-py2.7.egg/ipykernel/__main__.py:7: UserWarning: Boolean Series key will be reindexed to match DataFrame index.\n"
     ]
    }
   ],
   "source": [
    "grades = [grade for grade in X_test.columns if grade[:6] == \"grade_\"]\n",
    "\n",
    "results = {}\n",
    "\n",
    "for grade in grades:\n",
    "    good = y_test_predict[y_test == False][X_test[grade] == True][0].mean()\n",
    "    bad = y_test_predict[y_test == True][X_test[grade] == True][0].mean()\n",
    "    results[grade[-1]] = {'Good': good, \"Bad\": bad}\n",
    "\n",
    "print pd.DataFrame(results)"
   ]
  },
  {
   "cell_type": "markdown",
   "metadata": {},
   "source": [
    "Since the probability of repayment for any given loan is high, out model will tend to predict that a loan will get repaid. However, the actual probability of repayment varies. From the above, the model shows potential as, even when broken out by grade, the model shows some predictive power. The only grade this did not hold for is grade G, which may be due to the small size.\n",
    "\n",
    "Since the model will tend to predict repayment for every loan, the score function is not very useful. Another way to score how well we're doing is to use the model to decide what loans to buy to maximize the loss-adjusted return"
   ]
  },
  {
   "cell_type": "markdown",
   "metadata": {},
   "source": [
    "## Testing number of hidden layers and neurons"
   ]
  },
  {
   "cell_type": "code",
   "execution_count": 61,
   "metadata": {
    "collapsed": false
   },
   "outputs": [
    {
     "data": {
      "text/plain": [
       "{(1, 1): 0.84441272430668846,\n",
       " (1, 2): 0.84434475258292552,\n",
       " (2, 1): 0.84441272430668846,\n",
       " (2, 2): 0.84434475258292552,\n",
       " (3, 1): 0.84441272430668846,\n",
       " (3, 2): 0.84441272430668846,\n",
       " (4, 1): 0.84441272430668846,\n",
       " (4, 2): 0.84339314845024471,\n",
       " (5, 1): 0.84441272430668846,\n",
       " (5, 2): 0.84359706362153342}"
      ]
     },
     "execution_count": 61,
     "metadata": {},
     "output_type": "execute_result"
    }
   ],
   "source": [
    "num_layers = range(1,3)\n",
    "num_neurons = range(1,6)\n",
    "\n",
    "scores = {}\n",
    "\n",
    "for num_layer in num_layers:\n",
    "    for num_neuron in num_neurons:\n",
    "        clf = MLPClassifier(solver='lbfgs', alpha=1e-5, hidden_layer_sizes=(num_neuron, num_layer), random_state=1)\n",
    "        clf.fit(X_train, y_train)\n",
    "        clf.predict()\n",
    "        scores[(num_neuron, num_layer)] = score\n",
    "\n",
    "scores"
   ]
  },
  {
   "cell_type": "code",
   "execution_count": null,
   "metadata": {
    "collapsed": true
   },
   "outputs": [],
   "source": [
    "clf"
   ]
  },
  {
   "cell_type": "code",
   "execution_count": 78,
   "metadata": {
    "collapsed": false
   },
   "outputs": [
    {
     "data": {
      "text/plain": [
       "{1: 0.84441272430668846,\n",
       " 2: 0.84441272430668846,\n",
       " 3: 0.84441272430668846,\n",
       " 4: 0.84441272430668846,\n",
       " 5: 0.84441272430668846,\n",
       " 6: 0.84441272430668846,\n",
       " 7: 0.84441272430668846,\n",
       " 8: 0.84441272430668846,\n",
       " 9: 0.84441272430668846}"
      ]
     },
     "execution_count": 78,
     "metadata": {},
     "output_type": "execute_result"
    }
   ],
   "source": [
    "# alphas = 1 / 10 ** np.arange(1,7)\n",
    "# 0.1, 0.01, ... , 0.0000001\n",
    "alphas = np.arange(1,10)\n",
    "alpha_scores = {}\n",
    "\n",
    "for alpha in alphas:\n",
    "    clf = MLPClassifier(solver='lbfgs', alpha=alpha, hidden_layer_sizes=(1, 1), random_state=1)\n",
    "    clf.fit(X_train, y_train)\n",
    "    alpha_scores[alpha] = clf.score(X_test, y_test)\n",
    "\n",
    "alpha_scores"
   ]
  },
  {
   "cell_type": "code",
   "execution_count": 85,
   "metadata": {
    "collapsed": false
   },
   "outputs": [
    {
     "name": "stdout",
     "output_type": "stream",
     "text": [
      "0.844412724307\n"
     ]
    }
   ],
   "source": [
    "print 1 - sum(y_test==True) / len(y_test)\n",
    "\n",
    "\n",
    "# plt.scatter(y_test_predict[1], y_test)\n",
    "# plt.show()\n",
    "# y_test_predict"
   ]
  },
  {
   "cell_type": "code",
   "execution_count": 77,
   "metadata": {
    "collapsed": false
   },
   "outputs": [
    {
     "name": "stdout",
     "output_type": "stream",
     "text": [
      "Help on function scatter in module matplotlib.pyplot:\n",
      "\n",
      "scatter(x, y, s=20, c=None, marker=u'o', cmap=None, norm=None, vmin=None, vmax=None, alpha=None, linewidths=None, verts=None, edgecolors=None, hold=None, data=None, **kwargs)\n",
      "    Make a scatter plot of x vs y, where x and y are sequence like objects\n",
      "    of the same lengths.\n",
      "    \n",
      "    Parameters\n",
      "    ----------\n",
      "    x, y : array_like, shape (n, )\n",
      "        Input data\n",
      "    \n",
      "    s : scalar or array_like, shape (n, ), optional, default: 20\n",
      "        size in points^2.\n",
      "    \n",
      "    c : color or sequence of color, optional, default : 'b'\n",
      "        `c` can be a single color format string, or a sequence of color\n",
      "        specifications of length `N`, or a sequence of `N` numbers to be\n",
      "        mapped to colors using the `cmap` and `norm` specified via kwargs\n",
      "        (see below). Note that `c` should not be a single numeric RGB or\n",
      "        RGBA sequence because that is indistinguishable from an array of\n",
      "        values to be colormapped.  `c` can be a 2-D array in which the\n",
      "        rows are RGB or RGBA, however, including the case of a single\n",
      "        row to specify the same color for all points.\n",
      "    \n",
      "    marker : `~matplotlib.markers.MarkerStyle`, optional, default: 'o'\n",
      "        See `~matplotlib.markers` for more information on the different\n",
      "        styles of markers scatter supports. `marker` can be either\n",
      "        an instance of the class or the text shorthand for a particular\n",
      "        marker.\n",
      "    \n",
      "    cmap : `~matplotlib.colors.Colormap`, optional, default: None\n",
      "        A `~matplotlib.colors.Colormap` instance or registered name.\n",
      "        `cmap` is only used if `c` is an array of floats. If None,\n",
      "        defaults to rc `image.cmap`.\n",
      "    \n",
      "    norm : `~matplotlib.colors.Normalize`, optional, default: None\n",
      "        A `~matplotlib.colors.Normalize` instance is used to scale\n",
      "        luminance data to 0, 1. `norm` is only used if `c` is an array of\n",
      "        floats. If `None`, use the default :func:`normalize`.\n",
      "    \n",
      "    vmin, vmax : scalar, optional, default: None\n",
      "        `vmin` and `vmax` are used in conjunction with `norm` to normalize\n",
      "        luminance data.  If either are `None`, the min and max of the\n",
      "        color array is used.  Note if you pass a `norm` instance, your\n",
      "        settings for `vmin` and `vmax` will be ignored.\n",
      "    \n",
      "    alpha : scalar, optional, default: None\n",
      "        The alpha blending value, between 0 (transparent) and 1 (opaque)\n",
      "    \n",
      "    linewidths : scalar or array_like, optional, default: None\n",
      "        If None, defaults to (lines.linewidth,).\n",
      "    \n",
      "    edgecolors : color or sequence of color, optional, default: None\n",
      "        If None, defaults to (patch.edgecolor).\n",
      "        If 'face', the edge color will always be the same as\n",
      "        the face color.  If it is 'none', the patch boundary will not\n",
      "        be drawn.  For non-filled markers, the `edgecolors` kwarg\n",
      "        is ignored; color is determined by `c`.\n",
      "    \n",
      "    Returns\n",
      "    -------\n",
      "    paths : `~matplotlib.collections.PathCollection`\n",
      "    \n",
      "    Other parameters\n",
      "    ----------------\n",
      "    kwargs : `~matplotlib.collections.Collection` properties\n",
      "    \n",
      "    Notes\n",
      "    ------\n",
      "    Any or all of `x`, `y`, `s`, and `c` may be masked arrays, in\n",
      "    which case all masks will be combined and only unmasked points\n",
      "    will be plotted.\n",
      "    \n",
      "    Fundamentally, scatter works with 1-D arrays; `x`, `y`, `s`,\n",
      "    and `c` may be input as 2-D arrays, but within scatter\n",
      "    they will be flattened. The exception is `c`, which\n",
      "    will be flattened only if its size matches the size of `x`\n",
      "    and `y`.\n",
      "    \n",
      "    Examples\n",
      "    --------\n",
      "    .. plot:: mpl_examples/shapes_and_collections/scatter_demo.py\n",
      "    \n",
      "    Notes\n",
      "    -----\n",
      "    \n",
      "    In addition to the above described arguments, this function can take a\n",
      "    **data** keyword argument. If such a **data** argument is given, the\n",
      "    following arguments are replaced by **data[<arg>]**:\n",
      "    \n",
      "    * All arguments with the following names: 'edgecolors', 'c', 'facecolor', 'color', 'linewidths', 's', 'y', 'x', 'facecolors'.\n",
      "    \n",
      "    \n",
      "    \n",
      "    \n",
      "    Additional kwargs: hold = [True|False] overrides default hold state\n",
      "\n"
     ]
    }
   ],
   "source": [
    "help(plt.scatter)"
   ]
  },
  {
   "cell_type": "code",
   "execution_count": null,
   "metadata": {
    "collapsed": true
   },
   "outputs": [],
   "source": []
  }
 ],
 "metadata": {
  "kernelspec": {
   "display_name": "Python 2",
   "language": "python",
   "name": "python2"
  },
  "language_info": {
   "codemirror_mode": {
    "name": "ipython",
    "version": 2
   },
   "file_extension": ".py",
   "mimetype": "text/x-python",
   "name": "python",
   "nbconvert_exporter": "python",
   "pygments_lexer": "ipython2",
   "version": "2.7.12"
  }
 },
 "nbformat": 4,
 "nbformat_minor": 1
}
